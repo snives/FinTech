{
 "cells": [
  {
   "cell_type": "markdown",
   "metadata": {},
   "source": [
    "# Business Cycle Detection\n",
    "The intent is to use a range of fundamental data feeds to make a qualified estimation of the current business cycle."
   ]
  },
  {
   "cell_type": "code",
   "execution_count": 2,
   "metadata": {},
   "outputs": [
    {
     "ename": "ValueError",
     "evalue": "You need to set a valid API key. You can set it in 3 ways:\npass the string with api_key, or set api_key_file to a\nfile with the api key in the first line, or set the\nenvironment variable 'FRED_API_KEY' to the value of your\napi key. You can sign up for a free api key on the Fred\nwebsite at http://research.stlouisfed.org/fred2/",
     "output_type": "error",
     "traceback": [
      "\u001b[1;31m---------------------------------------------------------------------------\u001b[0m",
      "\u001b[1;31mValueError\u001b[0m                                Traceback (most recent call last)",
      "\u001b[1;32m<ipython-input-2-74af47acccfd>\u001b[0m in \u001b[0;36m<module>\u001b[1;34m()\u001b[0m\n\u001b[0;32m      1\u001b[0m \u001b[1;32mfrom\u001b[0m \u001b[0mfredapi\u001b[0m \u001b[1;32mimport\u001b[0m \u001b[0mFred\u001b[0m\u001b[1;33m\u001b[0m\u001b[0m\n\u001b[1;32m----> 2\u001b[1;33m \u001b[0mfred\u001b[0m \u001b[1;33m=\u001b[0m \u001b[0mFred\u001b[0m\u001b[1;33m(\u001b[0m\u001b[1;33m)\u001b[0m\u001b[1;33m\u001b[0m\u001b[0m\n\u001b[0m",
      "\u001b[1;32mC:\\Program Files\\Anaconda2\\envs\\python3.3\\lib\\site-packages\\fredapi\\fred.py\u001b[0m in \u001b[0;36m__init__\u001b[1;34m(self, api_key, api_key_file)\u001b[0m\n\u001b[0;32m     54\u001b[0m                     \u001b[0menvironment\u001b[0m \u001b[0mvariable\u001b[0m \u001b[1;34m'FRED_API_KEY'\u001b[0m \u001b[0mto\u001b[0m \u001b[0mthe\u001b[0m \u001b[0mvalue\u001b[0m \u001b[0mof\u001b[0m \u001b[0myour\u001b[0m\u001b[1;33m\u001b[0m\u001b[0m\n\u001b[0;32m     55\u001b[0m                     \u001b[0mapi\u001b[0m \u001b[0mkey\u001b[0m\u001b[1;33m.\u001b[0m \u001b[0mYou\u001b[0m \u001b[0mcan\u001b[0m \u001b[0msign\u001b[0m \u001b[0mup\u001b[0m \u001b[1;32mfor\u001b[0m \u001b[0ma\u001b[0m \u001b[0mfree\u001b[0m \u001b[0mapi\u001b[0m \u001b[0mkey\u001b[0m \u001b[0mon\u001b[0m \u001b[0mthe\u001b[0m \u001b[0mFred\u001b[0m\u001b[1;33m\u001b[0m\u001b[0m\n\u001b[1;32m---> 56\u001b[1;33m                     website at http://research.stlouisfed.org/fred2/\"\"\"))\n\u001b[0m\u001b[0;32m     57\u001b[0m \u001b[1;33m\u001b[0m\u001b[0m\n\u001b[0;32m     58\u001b[0m     \u001b[1;32mdef\u001b[0m \u001b[0m__fetch_data\u001b[0m\u001b[1;33m(\u001b[0m\u001b[0mself\u001b[0m\u001b[1;33m,\u001b[0m \u001b[0murl\u001b[0m\u001b[1;33m)\u001b[0m\u001b[1;33m:\u001b[0m\u001b[1;33m\u001b[0m\u001b[0m\n",
      "\u001b[1;31mValueError\u001b[0m: You need to set a valid API key. You can set it in 3 ways:\npass the string with api_key, or set api_key_file to a\nfile with the api key in the first line, or set the\nenvironment variable 'FRED_API_KEY' to the value of your\napi key. You can sign up for a free api key on the Fred\nwebsite at http://research.stlouisfed.org/fred2/"
     ]
    }
   ],
   "source": [
    "from fredapi import Fred\n",
    "fred = Fred()"
   ]
  },
  {
   "cell_type": "code",
   "execution_count": null,
   "metadata": {},
   "outputs": [],
   "source": []
  }
 ],
 "metadata": {
  "kernelspec": {
   "display_name": "Python [conda env:python3.3]",
   "language": "python",
   "name": "conda-env-python3.3-py"
  },
  "language_info": {
   "codemirror_mode": {
    "name": "ipython",
    "version": 3
   },
   "file_extension": ".py",
   "mimetype": "text/x-python",
   "name": "python",
   "nbconvert_exporter": "python",
   "pygments_lexer": "ipython3",
   "version": "3.7.0"
  }
 },
 "nbformat": 4,
 "nbformat_minor": 2
}
